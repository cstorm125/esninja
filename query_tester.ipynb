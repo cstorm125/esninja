{
 "cells": [
  {
   "cell_type": "markdown",
   "metadata": {},
   "source": [
    "# Test Full-text Search Query"
   ]
  },
  {
   "cell_type": "code",
   "execution_count": 50,
   "metadata": {},
   "outputs": [],
   "source": [
    "import os\n",
    "import json\n",
    "import pandas as pd\n",
    "import qgrid\n",
    "import tqdm\n",
    "\n",
    "#widgets\n",
    "from ipywidgets import interact, interactive, fixed, interact_manual\n",
    "import ipywidgets as widgets\n",
    "from IPython.display import display\n",
    "\n",
    "ES_URL = 'localhost:9200/'\n",
    "\n",
    "def curl_es(q):\n",
    "    try:\n",
    "        f = os.popen(q)\n",
    "        j = json.load(f)\n",
    "        f.close()\n",
    "    except Exception as e:\n",
    "        print(e,f.readlines())\n",
    "        f.close()\n",
    "        return 'cURL failed'\n",
    "    return j\n",
    "\n",
    "def gen_test_results(search_terms):\n",
    "    ds = []\n",
    "    for search_term in tqdm.tqdm_notebook(search_terms):\n",
    "        query = f'curl -X GET \"{ES_URL}tops_sample/_search\"' + \\\n",
    "            \" -H 'Content-Type: application/json' -d' \" +\\\n",
    "            query_pattern.replace('xxsearch_term', search_term) + \"'\"\n",
    "        j = curl_es(query)\n",
    "        try:\n",
    "            skus = j['hits']['hits']\n",
    "        except:\n",
    "            continue\n",
    "        for i in range(len(skus)):\n",
    "            try:\n",
    "                name_en = skus[i]['_source']['name_en']\n",
    "            except:\n",
    "                name_en = 'invalid_name_en'\n",
    "            try:\n",
    "                brand_name_en = skus[i]['_source']['brand_en']\n",
    "            except:\n",
    "                brand_name_en = 'invalid_brand_name'\n",
    "            try:\n",
    "                categories_en = skus[i]['_source']['class_en']\n",
    "            except:\n",
    "                categories_en = 'invalid_categories'\n",
    "            d = {'search_term':search_term,'position':i,'name_en':name_en,'brand_name_en':brand_name_en,\n",
    "                 'categories_en':categories_en,'_score':skus[i]['_score']}\n",
    "            ds.append(d)\n",
    "    return pd.DataFrame(ds)\n",
    "\n",
    "def display_results(df, search_term):\n",
    "    return qgrid.show_grid(df[df.search_term==search_term].iloc[:,1:])\n",
    "\n",
    "\n",
    "with open('data/tops_sample_query.json','r') as f: query_pattern = f.read()"
   ]
  },
  {
   "cell_type": "code",
   "execution_count": 51,
   "metadata": {},
   "outputs": [
    {
     "name": "stderr",
     "output_type": "stream",
     "text": [
      "/Users/admin/.virtualenvs/sandbox/lib/python3.7/site-packages/ipykernel_launcher.py:27: TqdmDeprecationWarning: This function will be removed in tqdm==5.0.0\n",
      "Please use `tqdm.notebook.tqdm` instead of `tqdm.tqdm_notebook`\n"
     ]
    },
    {
     "data": {
      "application/vnd.jupyter.widget-view+json": {
       "model_id": "747d0f90e64547918da89968c50bc728",
       "version_major": 2,
       "version_minor": 0
      },
      "text/plain": [
       "HBox(children=(FloatProgress(value=0.0, max=4.0), HTML(value='')))"
      ]
     },
     "metadata": {},
     "output_type": "display_data"
    },
    {
     "name": "stdout",
     "output_type": "stream",
     "text": [
      "\n"
     ]
    }
   ],
   "source": [
    "#enter your search terms to test here\n",
    "search_terms = [\n",
    "'eggs','fresh eggs',\n",
    "'milk','fresh milk'\n",
    "]\n",
    "res = gen_test_results(search_terms)"
   ]
  },
  {
   "cell_type": "markdown",
   "metadata": {},
   "source": [
    "## See Results"
   ]
  },
  {
   "cell_type": "code",
   "execution_count": 52,
   "metadata": {},
   "outputs": [
    {
     "data": {
      "application/vnd.jupyter.widget-view+json": {
       "model_id": "0be47b3eef7344b7baae005198f69ad3",
       "version_major": 2,
       "version_minor": 0
      },
      "text/plain": [
       "interactive(children=(Dropdown(description='search_term', options=('eggs', 'fresh eggs', 'milk', 'fresh milk')…"
      ]
     },
     "metadata": {},
     "output_type": "display_data"
    },
    {
     "data": {
      "text/plain": [
       "<function __main__.display_results(df, search_term)>"
      ]
     },
     "execution_count": 52,
     "metadata": {},
     "output_type": "execute_result"
    }
   ],
   "source": [
    "interact(display_results, df=fixed(res), search_term = widgets.Dropdown(options=search_terms))"
   ]
  },
  {
   "cell_type": "code",
   "execution_count": null,
   "metadata": {},
   "outputs": [],
   "source": []
  }
 ],
 "metadata": {
  "hide_input": false,
  "kernelspec": {
   "display_name": "Python 3",
   "language": "python",
   "name": "python3"
  },
  "language_info": {
   "codemirror_mode": {
    "name": "ipython",
    "version": 3
   },
   "file_extension": ".py",
   "mimetype": "text/x-python",
   "name": "python",
   "nbconvert_exporter": "python",
   "pygments_lexer": "ipython3",
   "version": "3.7.3"
  }
 },
 "nbformat": 4,
 "nbformat_minor": 4
}
