{
 "cells": [
  {
   "cell_type": "markdown",
   "metadata": {},
   "source": [
    "# TOPS Sample Quality Check"
   ]
  },
  {
   "cell_type": "code",
   "execution_count": 161,
   "metadata": {},
   "outputs": [],
   "source": [
    "import qgrid\n",
    "import pandas as pd\n",
    "pd.options.display.max_columns=999\n",
    "pd.options.display.max_rows=999\n",
    "import numpy as np\n",
    "%reload_ext autoreload\n",
    "%autoreload 2\n",
    "from tqdm import tqdm_notebook, trange\n",
    "from IPython.core.interactiveshell import InteractiveShell\n",
    "InteractiveShell.ast_node_interactivity = \"all\"\n",
    "import warnings\n",
    "warnings.filterwarnings(\"ignore\")\n",
    "def check_missing(df):\n",
    "    per_missing = df.isnull().mean()\n",
    "    missing_df = pd.DataFrame({'col': df.columns, 'per_missing': per_missing})\n",
    "    missing_df = missing_df.sort_values('per_missing',ascending=False).reset_index(drop=True)\n",
    "    missing_df['col'] = pd.Categorical(missing_df.col, categories=missing_df.col, ordered=True)\n",
    "    return missing_df"
   ]
  },
  {
   "cell_type": "code",
   "execution_count": 162,
   "metadata": {},
   "outputs": [
    {
     "data": {
      "application/vnd.jupyter.widget-view+json": {
       "model_id": "1091b8d53bc2424ca630600756fe0263",
       "version_major": 2,
       "version_minor": 0
      },
      "text/plain": [
       "QgridWidget(grid_options={'fullWidthRows': True, 'syncColumnCellResize': True, 'forceFitColumns': True, 'defau…"
      ]
     },
     "metadata": {},
     "output_type": "display_data"
    }
   ],
   "source": [
    "df = pd.read_csv('data/tops_sample.csv')\n",
    "qgrid.show_grid(df[[c for c in df.columns if '_en' in c]])"
   ]
  },
  {
   "cell_type": "code",
   "execution_count": 163,
   "metadata": {},
   "outputs": [
    {
     "data": {
      "application/vnd.jupyter.widget-view+json": {
       "model_id": "3b1d3c7c4d304e558b9ba17deb790886",
       "version_major": 2,
       "version_minor": 0
      },
      "text/plain": [
       "QgridWidget(grid_options={'fullWidthRows': True, 'syncColumnCellResize': True, 'forceFitColumns': True, 'defau…"
      ]
     },
     "metadata": {},
     "output_type": "display_data"
    }
   ],
   "source": [
    "qgrid.show_grid(df[[c for c in df.columns if '_th' in c]])"
   ]
  },
  {
   "cell_type": "code",
   "execution_count": 164,
   "metadata": {},
   "outputs": [
    {
     "data": {
      "text/html": [
       "<div>\n",
       "<style scoped>\n",
       "    .dataframe tbody tr th:only-of-type {\n",
       "        vertical-align: middle;\n",
       "    }\n",
       "\n",
       "    .dataframe tbody tr th {\n",
       "        vertical-align: top;\n",
       "    }\n",
       "\n",
       "    .dataframe thead th {\n",
       "        text-align: right;\n",
       "    }\n",
       "</style>\n",
       "<table border=\"1\" class=\"dataframe\">\n",
       "  <thead>\n",
       "    <tr style=\"text-align: right;\">\n",
       "      <th></th>\n",
       "      <th>col</th>\n",
       "      <th>per_missing</th>\n",
       "    </tr>\n",
       "  </thead>\n",
       "  <tbody>\n",
       "    <tr>\n",
       "      <th>0</th>\n",
       "      <td>long_desc_en</td>\n",
       "      <td>0.6440</td>\n",
       "    </tr>\n",
       "    <tr>\n",
       "      <th>1</th>\n",
       "      <td>long_desc_th</td>\n",
       "      <td>0.6436</td>\n",
       "    </tr>\n",
       "    <tr>\n",
       "      <th>2</th>\n",
       "      <td>brand_en</td>\n",
       "      <td>0.0596</td>\n",
       "    </tr>\n",
       "    <tr>\n",
       "      <th>3</th>\n",
       "      <td>brand_th</td>\n",
       "      <td>0.0596</td>\n",
       "    </tr>\n",
       "    <tr>\n",
       "      <th>4</th>\n",
       "      <td>subcategory_th</td>\n",
       "      <td>0.0422</td>\n",
       "    </tr>\n",
       "    <tr>\n",
       "      <th>5</th>\n",
       "      <td>class_th</td>\n",
       "      <td>0.0392</td>\n",
       "    </tr>\n",
       "    <tr>\n",
       "      <th>6</th>\n",
       "      <td>category_th</td>\n",
       "      <td>0.0388</td>\n",
       "    </tr>\n",
       "    <tr>\n",
       "      <th>7</th>\n",
       "      <td>category_en</td>\n",
       "      <td>0.0386</td>\n",
       "    </tr>\n",
       "    <tr>\n",
       "      <th>8</th>\n",
       "      <td>subcategory_en</td>\n",
       "      <td>0.0386</td>\n",
       "    </tr>\n",
       "    <tr>\n",
       "      <th>9</th>\n",
       "      <td>class_en</td>\n",
       "      <td>0.0386</td>\n",
       "    </tr>\n",
       "    <tr>\n",
       "      <th>10</th>\n",
       "      <td>name_th</td>\n",
       "      <td>0.0204</td>\n",
       "    </tr>\n",
       "    <tr>\n",
       "      <th>11</th>\n",
       "      <td>sku</td>\n",
       "      <td>0.0000</td>\n",
       "    </tr>\n",
       "    <tr>\n",
       "      <th>12</th>\n",
       "      <td>created_at</td>\n",
       "      <td>0.0000</td>\n",
       "    </tr>\n",
       "    <tr>\n",
       "      <th>13</th>\n",
       "      <td>name_en</td>\n",
       "      <td>0.0000</td>\n",
       "    </tr>\n",
       "  </tbody>\n",
       "</table>\n",
       "</div>"
      ],
      "text/plain": [
       "               col  per_missing\n",
       "0     long_desc_en       0.6440\n",
       "1     long_desc_th       0.6436\n",
       "2         brand_en       0.0596\n",
       "3         brand_th       0.0596\n",
       "4   subcategory_th       0.0422\n",
       "5         class_th       0.0392\n",
       "6      category_th       0.0388\n",
       "7      category_en       0.0386\n",
       "8   subcategory_en       0.0386\n",
       "9         class_en       0.0386\n",
       "10         name_th       0.0204\n",
       "11             sku       0.0000\n",
       "12      created_at       0.0000\n",
       "13         name_en       0.0000"
      ]
     },
     "execution_count": 164,
     "metadata": {},
     "output_type": "execute_result"
    }
   ],
   "source": [
    "#missing values\n",
    "check_missing(df)"
   ]
  },
  {
   "cell_type": "code",
   "execution_count": 165,
   "metadata": {},
   "outputs": [
    {
     "data": {
      "text/html": [
       "<div>\n",
       "<style scoped>\n",
       "    .dataframe tbody tr th:only-of-type {\n",
       "        vertical-align: middle;\n",
       "    }\n",
       "\n",
       "    .dataframe tbody tr th {\n",
       "        vertical-align: top;\n",
       "    }\n",
       "\n",
       "    .dataframe thead th {\n",
       "        text-align: right;\n",
       "    }\n",
       "</style>\n",
       "<table border=\"1\" class=\"dataframe\">\n",
       "  <thead>\n",
       "    <tr style=\"text-align: right;\">\n",
       "      <th></th>\n",
       "      <th>sku</th>\n",
       "      <th>created_at</th>\n",
       "      <th>name_en</th>\n",
       "      <th>name_th</th>\n",
       "    </tr>\n",
       "  </thead>\n",
       "  <tbody>\n",
       "    <tr>\n",
       "      <th>212</th>\n",
       "      <td>8851932377522</td>\n",
       "      <td>2018-04-02 08:01:48.000</td>\n",
       "      <td>Citra Papaya Whitening Scrub Bar Soap 110กรัม</td>\n",
       "      <td>ซิตร้าสบู่ก้อนสครับไวท์เทนนิ่งมะละกอ 110กรัม</td>\n",
       "    </tr>\n",
       "    <tr>\n",
       "      <th>737</th>\n",
       "      <td>48376815</td>\n",
       "      <td>2018-10-12 22:40:30.000</td>\n",
       "      <td>กระเช้าของขวัญปีใหม่ CFH04@5500</td>\n",
       "      <td>กระเช้าของขวัญปีใหม่ CFH04@5500</td>\n",
       "    </tr>\n",
       "    <tr>\n",
       "      <th>1282</th>\n",
       "      <td>8857104840054</td>\n",
       "      <td>2018-04-02 05:23:08.000</td>\n",
       "      <td>Gohair Scalp Treatment 200มล.</td>\n",
       "      <td>โกแฮร์ทรีทเม้นท์บำรุงเส้นผมสคลัป 200มล.</td>\n",
       "    </tr>\n",
       "    <tr>\n",
       "      <th>1483</th>\n",
       "      <td>4589975540231</td>\n",
       "      <td>2018-04-01 22:34:25.000</td>\n",
       "      <td>Ayurbio Moist Extra Rich Treatment 520มล.</td>\n",
       "      <td>อายูไบโอทรีทเม้นท์โกลด์ 520มล.</td>\n",
       "    </tr>\n",
       "    <tr>\n",
       "      <th>2760</th>\n",
       "      <td>8851932377508</td>\n",
       "      <td>2018-04-02 08:01:48.000</td>\n",
       "      <td>Citra Thanaka Whitening Scrub Bar Soap 110กรัม</td>\n",
       "      <td>ซิตร้าสบู่ก้อนสครับไวท์เทนนิ่งทานาคา 110กรัม</td>\n",
       "    </tr>\n",
       "    <tr>\n",
       "      <th>3251</th>\n",
       "      <td>8859178715504</td>\n",
       "      <td>2018-09-27 22:56:42.000</td>\n",
       "      <td>Mistine Champion Pink Complete Eye Palette 6.5...</td>\n",
       "      <td>มิสทินอายพาเลทแชมเปี้ยนพิ้งค์คอมพลีท 6.5กรัม</td>\n",
       "    </tr>\n",
       "    <tr>\n",
       "      <th>3458</th>\n",
       "      <td>299695</td>\n",
       "      <td>2018-10-22 22:42:18.000</td>\n",
       "      <td>กระเช้าของขวัญปีใหม่ Marks and Spencer Sparkli...</td>\n",
       "      <td>M&amp;S สปาร์คกิ้งวันเดอร์เอสโก 2019</td>\n",
       "    </tr>\n",
       "  </tbody>\n",
       "</table>\n",
       "</div>"
      ],
      "text/plain": [
       "                sku               created_at  \\\n",
       "212   8851932377522  2018-04-02 08:01:48.000   \n",
       "737        48376815  2018-10-12 22:40:30.000   \n",
       "1282  8857104840054  2018-04-02 05:23:08.000   \n",
       "1483  4589975540231  2018-04-01 22:34:25.000   \n",
       "2760  8851932377508  2018-04-02 08:01:48.000   \n",
       "3251  8859178715504  2018-09-27 22:56:42.000   \n",
       "3458         299695  2018-10-22 22:42:18.000   \n",
       "\n",
       "                                                name_en  \\\n",
       "212       Citra Papaya Whitening Scrub Bar Soap 110กรัม   \n",
       "737                     กระเช้าของขวัญปีใหม่ CFH04@5500   \n",
       "1282                      Gohair Scalp Treatment 200มล.   \n",
       "1483          Ayurbio Moist Extra Rich Treatment 520มล.   \n",
       "2760     Citra Thanaka Whitening Scrub Bar Soap 110กรัม   \n",
       "3251  Mistine Champion Pink Complete Eye Palette 6.5...   \n",
       "3458  กระเช้าของขวัญปีใหม่ Marks and Spencer Sparkli...   \n",
       "\n",
       "                                           name_th  \n",
       "212   ซิตร้าสบู่ก้อนสครับไวท์เทนนิ่งมะละกอ 110กรัม  \n",
       "737                กระเช้าของขวัญปีใหม่ CFH04@5500  \n",
       "1282       โกแฮร์ทรีทเม้นท์บำรุงเส้นผมสคลัป 200มล.  \n",
       "1483                อายูไบโอทรีทเม้นท์โกลด์ 520มล.  \n",
       "2760  ซิตร้าสบู่ก้อนสครับไวท์เทนนิ่งทานาคา 110กรัม  \n",
       "3251  มิสทินอายพาเลทแชมเปี้ยนพิ้งค์คอมพลีท 6.5กรัม  \n",
       "3458              M&S สปาร์คกิ้งวันเดอร์เอสโก 2019  "
      ]
     },
     "execution_count": 165,
     "metadata": {},
     "output_type": "execute_result"
    }
   ],
   "source": [
    "#thai characters in english names\n",
    "import re\n",
    "def char_percent(pattern,text):\n",
    "    return len(re.findall(pattern,text)) / (len(text)+0.01)\n",
    "\n",
    "df[df.name_en.map(lambda x: char_percent('[ก-๙]',str(x)))>0].iloc[:,:4]"
   ]
  },
  {
   "cell_type": "code",
   "execution_count": 166,
   "metadata": {},
   "outputs": [
    {
     "data": {
      "text/html": [
       "<div>\n",
       "<style scoped>\n",
       "    .dataframe tbody tr th:only-of-type {\n",
       "        vertical-align: middle;\n",
       "    }\n",
       "\n",
       "    .dataframe tbody tr th {\n",
       "        vertical-align: top;\n",
       "    }\n",
       "\n",
       "    .dataframe thead th {\n",
       "        text-align: right;\n",
       "    }\n",
       "</style>\n",
       "<table border=\"1\" class=\"dataframe\">\n",
       "  <thead>\n",
       "    <tr style=\"text-align: right;\">\n",
       "      <th></th>\n",
       "      <th>sku</th>\n",
       "      <th>created_at</th>\n",
       "      <th>name_en</th>\n",
       "      <th>name_th</th>\n",
       "      <th>brand_en</th>\n",
       "      <th>brand_th</th>\n",
       "    </tr>\n",
       "  </thead>\n",
       "  <tbody>\n",
       "    <tr>\n",
       "      <th>1222</th>\n",
       "      <td>3090291386041</td>\n",
       "      <td>2018-05-21 03:33:41.000</td>\n",
       "      <td>Fol Epi Classic Cheese 150g.</td>\n",
       "      <td>ฟอลเอปิคลาสสิคชีส 150กรัม</td>\n",
       "      <td>ฟอลเอปิ</td>\n",
       "      <td>FOL EPI</td>\n",
       "    </tr>\n",
       "    <tr>\n",
       "      <th>2035</th>\n",
       "      <td>8856950002142</td>\n",
       "      <td>2018-04-02 05:16:40.000</td>\n",
       "      <td>Khun Maeju Cashew Nut 150g.</td>\n",
       "      <td>คุณแม่จู้มะม่วงหิมพานต์อบเกลือ 110กรัม</td>\n",
       "      <td>คุณแม่จู้</td>\n",
       "      <td>คุณแม่จู้</td>\n",
       "    </tr>\n",
       "  </tbody>\n",
       "</table>\n",
       "</div>"
      ],
      "text/plain": [
       "                sku               created_at                       name_en  \\\n",
       "1222  3090291386041  2018-05-21 03:33:41.000  Fol Epi Classic Cheese 150g.   \n",
       "2035  8856950002142  2018-04-02 05:16:40.000   Khun Maeju Cashew Nut 150g.   \n",
       "\n",
       "                                     name_th   brand_en   brand_th  \n",
       "1222               ฟอลเอปิคลาสสิคชีส 150กรัม    ฟอลเอปิ    FOL EPI  \n",
       "2035  คุณแม่จู้มะม่วงหิมพานต์อบเกลือ 110กรัม  คุณแม่จู้  คุณแม่จู้  "
      ]
     },
     "execution_count": 166,
     "metadata": {},
     "output_type": "execute_result"
    }
   ],
   "source": [
    "#thai characters in english brands\n",
    "import re\n",
    "def char_percent(pattern,text):\n",
    "    return len(re.findall(pattern,text)) / (len(text)+0.01)\n",
    "\n",
    "df[df.brand_en.map(lambda x: char_percent('[ก-๙]',str(x)))>0].iloc[:,:6]"
   ]
  },
  {
   "cell_type": "code",
   "execution_count": 167,
   "metadata": {},
   "outputs": [
    {
     "data": {
      "text/html": [
       "<div>\n",
       "<style scoped>\n",
       "    .dataframe tbody tr th:only-of-type {\n",
       "        vertical-align: middle;\n",
       "    }\n",
       "\n",
       "    .dataframe tbody tr th {\n",
       "        vertical-align: top;\n",
       "    }\n",
       "\n",
       "    .dataframe thead th {\n",
       "        text-align: right;\n",
       "    }\n",
       "</style>\n",
       "<table border=\"1\" class=\"dataframe\">\n",
       "  <thead>\n",
       "    <tr style=\"text-align: right;\">\n",
       "      <th></th>\n",
       "      <th>long_desc_th</th>\n",
       "      <th>long_desc_en</th>\n",
       "    </tr>\n",
       "  </thead>\n",
       "  <tbody>\n",
       "    <tr>\n",
       "      <th>0</th>\n",
       "      <td>พายไส้ไก่ หอม อร่อย เพลิดเพลินได้ทุกที่ทุกเวลา...</td>\n",
       "      <td>พายไส้ไก่ หอม อร่อย เพลิดเพลินได้ทุกที่ทุกเวลา...</td>\n",
       "    </tr>\n",
       "    <tr>\n",
       "      <th>6</th>\n",
       "      <td>เส่งเฮงฟองเต้าหู้ คุณภาพมาตราฐาน 100% ใช้วัตถุ...</td>\n",
       "      <td>เส่งเฮงฟองเต้าหู้ คุณภาพมาตราฐาน 100% ใช้วัตถุ...</td>\n",
       "    </tr>\n",
       "    <tr>\n",
       "      <th>7</th>\n",
       "      <td>แบรนด์ซุปไก่สกัดรสต้นตำรับ 42 มล.  เป็นที่นิยม...</td>\n",
       "      <td>แบรนด์ซุปไก่สกัดรสต้นตำรับ 42 มล.  เป็นที่นิยม...</td>\n",
       "    </tr>\n",
       "    <tr>\n",
       "      <th>9</th>\n",
       "      <td>มายช้อยส์ไทยปลาหมึกบดปรุงรส  อร่อยกรอบ  กินได...</td>\n",
       "      <td>มายช้อยส์ไทยปลาหมึกบดปรุงรส  อร่อยกรอบ  กินได...</td>\n",
       "    </tr>\n",
       "    <tr>\n",
       "      <th>11</th>\n",
       "      <td>ชิตาเกะ หรือเห็ดหอม เป็นเห็ดที่มีรูปร่างคล้ายร...</td>\n",
       "      <td>ชิตาเกะ หรือเห็ดหอม เป็นเห็ดที่มีรูปร่างคล้ายร...</td>\n",
       "    </tr>\n",
       "    <tr>\n",
       "      <th>...</th>\n",
       "      <td>...</td>\n",
       "      <td>...</td>\n",
       "    </tr>\n",
       "    <tr>\n",
       "      <th>4989</th>\n",
       "      <td>บราวอิทโปรเฟสชั่นนอลบราวรุ่นแองเกิ้ลบรัช แปรงพ...</td>\n",
       "      <td>บราวอิทโปรเฟสชั่นนอลบราวรุ่นแองเกิ้ลบรัช แปรงพ...</td>\n",
       "    </tr>\n",
       "    <tr>\n",
       "      <th>4994</th>\n",
       "      <td>มายด์มัสตาร์ดดิจองเนสครีมมี่ มัสตาร์ดมีรสชาติท...</td>\n",
       "      <td>มายด์มัสตาร์ดดิจองเนสครีมมี่ มัสตาร์ดมีรสชาติท...</td>\n",
       "    </tr>\n",
       "    <tr>\n",
       "      <th>4996</th>\n",
       "      <td>จอห์นสันเบบี้มิลค์บาธ 1000มล. สบู่เหลวอาบน้ำที...</td>\n",
       "      <td>จอห์นสันเบบี้มิลค์บาธ 1000มล. สบู่เหลวอาบน้ำที...</td>\n",
       "    </tr>\n",
       "    <tr>\n",
       "      <th>4997</th>\n",
       "      <td>nestle' cerelac starspuffs complementary food ...</td>\n",
       "      <td>เนสท์เล่ซีรีแล็คสตาร์สพัพฟ์สรสกล้วยและสตรอเบอร...</td>\n",
       "    </tr>\n",
       "    <tr>\n",
       "      <th>4999</th>\n",
       "      <td>เบบี้มายด์แป้งเด็กสีชมพู ผลิตภัณฑ์แป้งฝุ่นโรยต...</td>\n",
       "      <td>เบบี้มายด์แป้งเด็กสีชมพู ผลิตภัณฑ์แป้งฝุ่นโรยต...</td>\n",
       "    </tr>\n",
       "  </tbody>\n",
       "</table>\n",
       "<p>1381 rows × 2 columns</p>\n",
       "</div>"
      ],
      "text/plain": [
       "                                           long_desc_th  \\\n",
       "0     พายไส้ไก่ หอม อร่อย เพลิดเพลินได้ทุกที่ทุกเวลา...   \n",
       "6     เส่งเฮงฟองเต้าหู้ คุณภาพมาตราฐาน 100% ใช้วัตถุ...   \n",
       "7     แบรนด์ซุปไก่สกัดรสต้นตำรับ 42 มล.  เป็นที่นิยม...   \n",
       "9      มายช้อยส์ไทยปลาหมึกบดปรุงรส  อร่อยกรอบ  กินได...   \n",
       "11    ชิตาเกะ หรือเห็ดหอม เป็นเห็ดที่มีรูปร่างคล้ายร...   \n",
       "...                                                 ...   \n",
       "4989  บราวอิทโปรเฟสชั่นนอลบราวรุ่นแองเกิ้ลบรัช แปรงพ...   \n",
       "4994  มายด์มัสตาร์ดดิจองเนสครีมมี่ มัสตาร์ดมีรสชาติท...   \n",
       "4996  จอห์นสันเบบี้มิลค์บาธ 1000มล. สบู่เหลวอาบน้ำที...   \n",
       "4997  nestle' cerelac starspuffs complementary food ...   \n",
       "4999  เบบี้มายด์แป้งเด็กสีชมพู ผลิตภัณฑ์แป้งฝุ่นโรยต...   \n",
       "\n",
       "                                           long_desc_en  \n",
       "0     พายไส้ไก่ หอม อร่อย เพลิดเพลินได้ทุกที่ทุกเวลา...  \n",
       "6     เส่งเฮงฟองเต้าหู้ คุณภาพมาตราฐาน 100% ใช้วัตถุ...  \n",
       "7     แบรนด์ซุปไก่สกัดรสต้นตำรับ 42 มล.  เป็นที่นิยม...  \n",
       "9      มายช้อยส์ไทยปลาหมึกบดปรุงรส  อร่อยกรอบ  กินได...  \n",
       "11    ชิตาเกะ หรือเห็ดหอม เป็นเห็ดที่มีรูปร่างคล้ายร...  \n",
       "...                                                 ...  \n",
       "4989  บราวอิทโปรเฟสชั่นนอลบราวรุ่นแองเกิ้ลบรัช แปรงพ...  \n",
       "4994  มายด์มัสตาร์ดดิจองเนสครีมมี่ มัสตาร์ดมีรสชาติท...  \n",
       "4996  จอห์นสันเบบี้มิลค์บาธ 1000มล. สบู่เหลวอาบน้ำที...  \n",
       "4997  เนสท์เล่ซีรีแล็คสตาร์สพัพฟ์สรสกล้วยและสตรอเบอร...  \n",
       "4999  เบบี้มายด์แป้งเด็กสีชมพู ผลิตภัณฑ์แป้งฝุ่นโรยต...  \n",
       "\n",
       "[1381 rows x 2 columns]"
      ]
     },
     "execution_count": 167,
     "metadata": {},
     "output_type": "execute_result"
    }
   ],
   "source": [
    "#thai characters in english descriptions\n",
    "import re\n",
    "def char_percent(pattern,text):\n",
    "    return len(re.findall(pattern,text)) / (len(text)+0.01)\n",
    "\n",
    "df[df.long_desc_en.map(lambda x: char_percent('[ก-๙]',str(x)))>0].iloc[:,-2:]"
   ]
  },
  {
   "cell_type": "code",
   "execution_count": 168,
   "metadata": {},
   "outputs": [
    {
     "data": {
      "text/plain": [
       "Health & Beauty Care           1421\n",
       "Pantry & Ingredients            736\n",
       "Snacks & Desserts               647\n",
       "Household & Pet                 526\n",
       "Beverages                       409\n",
       "Fresh Food & Bakery             308\n",
       "Beer,Wine & Spirits             241\n",
       "Fruit & Vegetables              159\n",
       "Mom & Kids                      145\n",
       "Meat & Seafood                  108\n",
       "International Products           36\n",
       "Merit & Giftset                  25\n",
       "Shop by Brands                   25\n",
       "Season's Greetings               19\n",
       "Chinese New Year Products         1\n",
       "Promotion Crazy Price 12.12       1\n",
       "Name: category_en, dtype: int64"
      ]
     },
     "execution_count": 168,
     "metadata": {},
     "output_type": "execute_result"
    }
   ],
   "source": [
    "#be careful about the translation\n",
    "df.category_en.value_counts()"
   ]
  },
  {
   "cell_type": "code",
   "execution_count": 169,
   "metadata": {},
   "outputs": [
    {
     "data": {
      "text/plain": [
       "สุขภาพและความงาม              1421\n",
       "ของแห้งและเครื่องปรุง          736\n",
       "สแน็คและของหวาน                647\n",
       "ของใช้ในบ้านและสัตว์เลี้ยง     526\n",
       "เครื่องดื่มและผงชงดื่ม         409\n",
       "อาหารสดและเบเกอรี่             308\n",
       "เครื่องดื่มแอลกอฮอล์           241\n",
       "ผักและผลไม้                    159\n",
       "แม่และเด็ก                     145\n",
       "เนื้อสัตว์และอาหารทะเล         108\n",
       "สินค้าต่างประเทศ                36\n",
       "สังฆภัณฑ์และสินค้าเทศกาล        25\n",
       "ช็อปตามแบรนด์                   25\n",
       "สินค้าเทศกาลปีใหม่              19\n",
       "สินค้าตรุษจีน                    1\n",
       "Name: category_th, dtype: int64"
      ]
     },
     "execution_count": 169,
     "metadata": {},
     "output_type": "execute_result"
    }
   ],
   "source": [
    "df.category_th.value_counts()"
   ]
  },
  {
   "cell_type": "code",
   "execution_count": 170,
   "metadata": {},
   "outputs": [
    {
     "data": {
      "text/html": [
       "<div>\n",
       "<style scoped>\n",
       "    .dataframe tbody tr th:only-of-type {\n",
       "        vertical-align: middle;\n",
       "    }\n",
       "\n",
       "    .dataframe tbody tr th {\n",
       "        vertical-align: top;\n",
       "    }\n",
       "\n",
       "    .dataframe thead th {\n",
       "        text-align: right;\n",
       "    }\n",
       "</style>\n",
       "<table border=\"1\" class=\"dataframe\">\n",
       "  <thead>\n",
       "    <tr style=\"text-align: right;\">\n",
       "      <th></th>\n",
       "      <th>category_en</th>\n",
       "      <th>subcategory_en</th>\n",
       "      <th>category_th</th>\n",
       "      <th>subcategory_th</th>\n",
       "    </tr>\n",
       "  </thead>\n",
       "  <tbody>\n",
       "    <tr>\n",
       "      <th>4778</th>\n",
       "      <td>Promotion Crazy Price 12.12</td>\n",
       "      <td>Health &amp; Beauty Care</td>\n",
       "      <td>NaN</td>\n",
       "      <td>NaN</td>\n",
       "    </tr>\n",
       "  </tbody>\n",
       "</table>\n",
       "</div>"
      ],
      "text/plain": [
       "                      category_en        subcategory_en category_th  \\\n",
       "4778  Promotion Crazy Price 12.12  Health & Beauty Care         NaN   \n",
       "\n",
       "     subcategory_th  \n",
       "4778            NaN  "
      ]
     },
     "execution_count": 170,
     "metadata": {},
     "output_type": "execute_result"
    }
   ],
   "source": [
    "#WTF!?\n",
    "df[df.category_en=='Promotion Crazy Price 12.12'][['category_en','subcategory_en','category_th','subcategory_th']]"
   ]
  },
  {
   "cell_type": "code",
   "execution_count": 171,
   "metadata": {},
   "outputs": [
    {
     "data": {
      "text/plain": [
       "Index(['sku', 'created_at', 'name_en', 'name_th', 'brand_en', 'brand_th',\n",
       "       'category_en', 'subcategory_en', 'class_en', 'category_th',\n",
       "       'subcategory_th', 'class_th', 'long_desc_th', 'long_desc_en'],\n",
       "      dtype='object')"
      ]
     },
     "execution_count": 171,
     "metadata": {},
     "output_type": "execute_result"
    }
   ],
   "source": [
    "df.columns"
   ]
  },
  {
   "cell_type": "code",
   "execution_count": null,
   "metadata": {},
   "outputs": [],
   "source": []
  }
 ],
 "metadata": {
  "hide_input": false,
  "kernelspec": {
   "display_name": "Python 3",
   "language": "python",
   "name": "python3"
  },
  "language_info": {
   "codemirror_mode": {
    "name": "ipython",
    "version": 3
   },
   "file_extension": ".py",
   "mimetype": "text/x-python",
   "name": "python",
   "nbconvert_exporter": "python",
   "pygments_lexer": "ipython3",
   "version": "3.7.3"
  }
 },
 "nbformat": 4,
 "nbformat_minor": 4
}
